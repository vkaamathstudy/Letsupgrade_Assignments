{
  "nbformat": 4,
  "nbformat_minor": 0,
  "metadata": {
    "colab": {
      "name": "Lets Upgrade Day2 Assignment.ipynb",
      "provenance": []
    },
    "kernelspec": {
      "name": "python3",
      "display_name": "Python 3"
    }
  },
  "cells": [
    {
      "cell_type": "markdown",
      "metadata": {
        "id": "-zKwtJf_V3dn"
      },
      "source": [
        "Question 1: Create an empty list. Accept 10 numbers from the user and append to it the list if it is an even number.\n"
      ]
    },
    {
      "cell_type": "code",
      "metadata": {
        "id": "2BW87a3kVvGf",
        "outputId": "6510f2d2-73c9-41f2-b737-896ceb092faf",
        "colab": {
          "base_uri": "https://localhost:8080/"
        }
      },
      "source": [
        "even_list=[]\n",
        "for i in range(10):\n",
        "  int_a=int(input('enter a num for list'))\n",
        "  if int_a%2==0:\n",
        "    even_list.append(int_a)\n",
        "print('This is the list created: ', even_list)"
      ],
      "execution_count": 35,
      "outputs": [
        {
          "output_type": "stream",
          "text": [
            "enter a num for list1\n",
            "enter a num for list2\n",
            "enter a num for list3\n",
            "enter a num for list34\n",
            "enter a num for list45\n",
            "enter a num for list56\n",
            "enter a num for list67\n",
            "enter a num for list23\n",
            "enter a num for list2\n",
            "enter a num for list34\n",
            "This is the list created:  [2, 34, 56, 2, 34]\n"
          ],
          "name": "stdout"
        }
      ]
    },
    {
      "cell_type": "markdown",
      "metadata": {
        "id": "LYluWD1ZXxMW"
      },
      "source": [
        "Question 2: Create a notebook on LIST COMPREHENSION. This exercise is to put you in a Self learning mode"
      ]
    },
    {
      "cell_type": "markdown",
      "metadata": {
        "id": "raIp0r0fYRZF"
      },
      "source": [
        "Ans: Syntax for List Comprehension is as follows\n",
        "\n",
        "\n",
        "```\n",
        "h_letters = [ letter for letter in 'human' ]\n",
        "print( h_letters)\n",
        "```\n",
        "\n",
        "[expression for item in list]\n",
        "\n",
        ">the power of list comprehension. It can identify when it receives a string or a tuple and work on it like a list.\n",
        "\n",
        "\n"
      ]
    },
    {
      "cell_type": "code",
      "metadata": {
        "id": "-oR7B8tOXwmU",
        "outputId": "58b00433-886b-40ee-a32f-f34f2fc7427b",
        "colab": {
          "base_uri": "https://localhost:8080/"
        }
      },
      "source": [
        "list_comp=[x for x in range(1,10)]\n",
        "list_comp"
      ],
      "execution_count": 2,
      "outputs": [
        {
          "output_type": "execute_result",
          "data": {
            "text/plain": [
              "[1, 2, 3, 4, 5, 6, 7, 8, 9]"
            ]
          },
          "metadata": {
            "tags": []
          },
          "execution_count": 2
        }
      ]
    },
    {
      "cell_type": "markdown",
      "metadata": {
        "id": "Gsf2pMNeaxYX"
      },
      "source": [
        "Question 3: You have seen in the videos how powerful dictionary data structure is.\n",
        "In this assignment, given a number n, you have to write a program that generates a dictionary d which\n",
        "contains (i, i*i), where i is from 1 to n (both included).\n",
        "Then you have to just print this dictionary d.\n",
        "Example:\n",
        "Input: 4\n",
        "will give output as\n",
        "{1: 1, 2: 4, 3: 9, 4: 16}\n",
        "Input Format:\n",
        "Take the number n in a single line.\n",
        "Output Format:\n",
        "Print the dictionary d in a single line."
      ]
    },
    {
      "cell_type": "code",
      "metadata": {
        "id": "mkDTqkrMWxw8",
        "outputId": "60aa11ba-407e-48f2-a306-1fb870bc6018",
        "colab": {
          "base_uri": "https://localhost:8080/"
        }
      },
      "source": [
        "dict_input=int(input('Please provide the number:'))\n",
        "dict={}\n",
        "for i in range(1,dict_input+1):\n",
        "  dict[i]=pow(i,2)\n",
        "dict"
      ],
      "execution_count": 4,
      "outputs": [
        {
          "output_type": "stream",
          "text": [
            "Please provide the number:5\n"
          ],
          "name": "stdout"
        },
        {
          "output_type": "execute_result",
          "data": {
            "text/plain": [
              "{1: 1, 2: 4, 3: 9, 4: 16, 5: 25}"
            ]
          },
          "metadata": {
            "tags": []
          },
          "execution_count": 4
        }
      ]
    },
    {
      "cell_type": "markdown",
      "metadata": {
        "id": "aNN7bdkwfrBn"
      },
      "source": [
        "Question 4: There is a robot which wants to go the charging point to charge itself.\n",
        "The robot moves in a 2-D plane from the original point (0,0). The robot can\n",
        "move toward UP, DOWN, LEFT and RIGHT with given steps.\n",
        "The trace of robot movement is shown as the following:\n",
        "UP 5\n",
        "DOWN 3\n",
        "LEFT 3\n",
        "RIGHT 2\n",
        "Then, the output of the program should be:\n",
        "2\n",
        "The numbers after the direction are steps.\n",
        "Write a program to compute the distance between the current position after\n",
        "a sequence of movement and original point. If the distance is a float, then\n",
        "just print the nearest integer (use round() function for that and then convert\n",
        "it into an integer).\n",
        "Input Format:\n",
        "The first line of the input contains a number n which implies the number of\n",
        "directions to be given.\n",
        "The next n lines contain the direction and the step separated by a space.\n",
        "\n",
        "Output Format:\n",
        "Print the distance from the original position to the current position.\n",
        "Example:\n",
        "Input:\n",
        "4\n",
        "UP 5\n",
        "DOWN 3\n",
        "LEFT 3\n",
        "RIGHT 2\n",
        "Output:\n",
        "2"
      ]
    },
    {
      "cell_type": "code",
      "metadata": {
        "id": "Iwd4Ul5VpLyO",
        "outputId": "9f6e760c-3226-45e6-9990-1b2c75d01872",
        "colab": {
          "base_uri": "https://localhost:8080/"
        }
      },
      "source": [
        "import math\n",
        "pos = [0,0]\n",
        "print('Enter the direction (UP, DOWN, LEFT, RIGHT) and steps (in integer)')\n",
        "while True:\n",
        "    s = input()\n",
        "    if not s:\n",
        "        break\n",
        "    movement = s.split(\" \")\n",
        "    direction = movement[0].upper()\n",
        "    steps = int(movement[1])\n",
        "    if direction==\"UP\":\n",
        "        pos[0]+=steps\n",
        "    elif direction==\"DOWN\":\n",
        "        pos[0]-=steps\n",
        "    elif direction==\"LEFT\":\n",
        "        pos[1]-=steps\n",
        "    elif direction==\"RIGHT\":\n",
        "        pos[1]+=steps\n",
        "    else:\n",
        "        pass\n",
        " \n",
        "print ('The distance between start and end point is ',int(round(math.sqrt(pos[1]**2+pos[0]**2))))"
      ],
      "execution_count": 30,
      "outputs": [
        {
          "output_type": "stream",
          "text": [
            "Enter the direction (UP, DOWN, LEFT, RIGHT) and steps (in integer)\n",
            "UP 5\n",
            "Down 5\n",
            "left 2\n",
            "right 5\n",
            "\n",
            "The distance between start and end point is  3\n"
          ],
          "name": "stdout"
        }
      ]
    },
    {
      "cell_type": "code",
      "metadata": {
        "id": "oRCzHjDD9Xsk"
      },
      "source": [
        ""
      ],
      "execution_count": 21,
      "outputs": []
    }
  ]
}