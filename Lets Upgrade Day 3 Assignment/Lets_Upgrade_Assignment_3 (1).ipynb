{
  "nbformat": 4,
  "nbformat_minor": 0,
  "metadata": {
    "colab": {
      "name": "Lets Upgrade Assignment 3.ipynb",
      "provenance": []
    },
    "kernelspec": {
      "name": "python3",
      "display_name": "Python 3"
    }
  },
  "cells": [
    {
      "cell_type": "markdown",
      "metadata": {
        "id": "fUpnnDKlEIMm"
      },
      "source": [
        "Question 1: Create a numpy array starting from 2 till 50 with a stepsize of 3."
      ]
    },
    {
      "cell_type": "code",
      "metadata": {
        "id": "UdEBdiPsD5oz"
      },
      "source": [
        "import numpy as np"
      ],
      "execution_count": null,
      "outputs": []
    },
    {
      "cell_type": "code",
      "metadata": {
        "id": "kWMDW5UPESXk",
        "colab": {
          "base_uri": "https://localhost:8080/"
        },
        "outputId": "6e99740e-b5db-44ee-9ab2-9bb01d46cee0"
      },
      "source": [
        "np.arange(2,50,3)"
      ],
      "execution_count": null,
      "outputs": [
        {
          "output_type": "execute_result",
          "data": {
            "text/plain": [
              "array([ 2,  5,  8, 11, 14, 17, 20, 23, 26, 29, 32, 35, 38, 41, 44, 47])"
            ]
          },
          "metadata": {
            "tags": []
          },
          "execution_count": 17
        }
      ]
    },
    {
      "cell_type": "markdown",
      "metadata": {
        "id": "vL3vVvR_GuMn"
      },
      "source": [
        "Question 2: Accept two lists of 5 elements each from the user.\n",
        "Convert them to numpy arrays. Concatenate these arrays and print it. Also sort these arrays and print it.\n"
      ]
    },
    {
      "cell_type": "code",
      "metadata": {
        "id": "UCyouTT-Eb6i",
        "colab": {
          "base_uri": "https://localhost:8080/"
        },
        "outputId": "14137b7d-6825-4ec6-ce3d-e587b6bd79ae"
      },
      "source": [
        "list1=[]\n",
        "for i in range(5):\n",
        "  list1.append(float(input(\"enter a number: \")))"
      ],
      "execution_count": null,
      "outputs": [
        {
          "output_type": "stream",
          "text": [
            "enter a number: 3\n",
            "enter a number: 4\n",
            "enter a number: 5\n",
            "enter a number: 6\n",
            "enter a number: 7\n"
          ],
          "name": "stdout"
        }
      ]
    },
    {
      "cell_type": "code",
      "metadata": {
        "id": "TRoprKDUE8zW",
        "colab": {
          "base_uri": "https://localhost:8080/"
        },
        "outputId": "829a3aba-9727-4c84-a3df-eda5043e9ad1"
      },
      "source": [
        "list1"
      ],
      "execution_count": null,
      "outputs": [
        {
          "output_type": "execute_result",
          "data": {
            "text/plain": [
              "[3.0, 4.0, 5.0, 6.0, 7.0]"
            ]
          },
          "metadata": {
            "tags": []
          },
          "execution_count": 28
        }
      ]
    },
    {
      "cell_type": "code",
      "metadata": {
        "id": "ATQYYamiFlL5",
        "colab": {
          "base_uri": "https://localhost:8080/"
        },
        "outputId": "6163882b-b671-4c21-e9c3-6998e1bcecf4"
      },
      "source": [
        "list2=[]\n",
        "for i in range(5):\n",
        "  list2.append(float(input(\"enter a number: \")))"
      ],
      "execution_count": null,
      "outputs": [
        {
          "output_type": "stream",
          "text": [
            "enter a number: 3\n",
            "enter a number: 2\n",
            "enter a number: 1\n",
            "enter a number: 5\n",
            "enter a number: 6\n"
          ],
          "name": "stdout"
        }
      ]
    },
    {
      "cell_type": "code",
      "metadata": {
        "id": "0sRxDtmzGN2-",
        "colab": {
          "base_uri": "https://localhost:8080/"
        },
        "outputId": "69776f96-0f04-4ee8-c513-1110b29ef3f0"
      },
      "source": [
        "Arr1=np.array(list1)\n",
        "Arr2=np.array(list2)\n",
        "Arr1"
      ],
      "execution_count": null,
      "outputs": [
        {
          "output_type": "execute_result",
          "data": {
            "text/plain": [
              "array([3., 4., 5., 6., 7.])"
            ]
          },
          "metadata": {
            "tags": []
          },
          "execution_count": 34
        }
      ]
    },
    {
      "cell_type": "code",
      "metadata": {
        "id": "ihmnd6xPGVTS",
        "colab": {
          "base_uri": "https://localhost:8080/"
        },
        "outputId": "e25c6b12-5fb4-4aeb-eacc-bf417f559d8d"
      },
      "source": [
        "print(np.concatenate((Arr1,Arr2)))"
      ],
      "execution_count": null,
      "outputs": [
        {
          "output_type": "stream",
          "text": [
            "[3. 4. 5. 6. 7. 3. 2. 1. 5. 6.]\n"
          ],
          "name": "stdout"
        }
      ]
    },
    {
      "cell_type": "code",
      "metadata": {
        "id": "fPAl6nXsGWTV",
        "colab": {
          "base_uri": "https://localhost:8080/"
        },
        "outputId": "42cf7339-a12d-4402-fba2-81c7be910af4"
      },
      "source": [
        "print(np.sort(np.concatenate((Arr1,Arr2))))"
      ],
      "execution_count": null,
      "outputs": [
        {
          "output_type": "stream",
          "text": [
            "[1. 2. 3. 3. 4. 5. 5. 6. 6. 7.]\n"
          ],
          "name": "stdout"
        }
      ]
    },
    {
      "cell_type": "code",
      "metadata": {
        "id": "GuyQOjYUH0xV",
        "colab": {
          "base_uri": "https://localhost:8080/"
        },
        "outputId": "523019ed-6dcb-4304-ecc5-0f7d56fe1ea6"
      },
      "source": [
        "#Write a code snippet to find the dimensions of a ndarray and its size\n",
        "arr=np.array([[1,2,3],[4,5,6],[7,8,9]])\n",
        "print('shape : ',arr.shape)\n",
        "print('ndim :', arr.ndim)\n",
        "arr.size"
      ],
      "execution_count": null,
      "outputs": [
        {
          "output_type": "stream",
          "text": [
            "shape :  (3, 3)\n",
            "ndim : 2\n"
          ],
          "name": "stdout"
        },
        {
          "output_type": "execute_result",
          "data": {
            "text/plain": [
              "9"
            ]
          },
          "metadata": {
            "tags": []
          },
          "execution_count": 2
        }
      ]
    },
    {
      "cell_type": "code",
      "metadata": {
        "id": "SooM6GLn-uhs",
        "colab": {
          "base_uri": "https://localhost:8080/"
        },
        "outputId": "72260102-c072-484d-e138-3d73c062ad9b"
      },
      "source": [
        "# Q4. How to convert a 1D array into a 2D array? Demonstrate with the help of a c\n",
        "# Hint: np.newaxis, np.expand_dims\n",
        "arr2=arr[:,np.newaxis]\n",
        "print('shape : ',arr2.shape)\n",
        "arr2"
      ],
      "execution_count": null,
      "outputs": [
        {
          "output_type": "stream",
          "text": [
            "shape :  (3, 1, 3)\n"
          ],
          "name": "stdout"
        },
        {
          "output_type": "execute_result",
          "data": {
            "text/plain": [
              "array([[[1, 2, 3]],\n",
              "\n",
              "       [[4, 5, 6]],\n",
              "\n",
              "       [[7, 8, 9]]])"
            ]
          },
          "metadata": {
            "tags": []
          },
          "execution_count": 8
        }
      ]
    },
    {
      "cell_type": "code",
      "metadata": {
        "id": "x1KeBv0WjJBA",
        "colab": {
          "base_uri": "https://localhost:8080/"
        },
        "outputId": "418b5e49-b9f5-4417-fd6a-7e733610f4c8"
      },
      "source": [
        "arr3=arr[np.newaxis,:]\n",
        "print('shape : ',arr3.shape)\n",
        "arr3"
      ],
      "execution_count": null,
      "outputs": [
        {
          "output_type": "stream",
          "text": [
            "shape :  (1, 3, 3)\n"
          ],
          "name": "stdout"
        },
        {
          "output_type": "execute_result",
          "data": {
            "text/plain": [
              "array([[[1, 2, 3],\n",
              "        [4, 5, 6],\n",
              "        [7, 8, 9]]])"
            ]
          },
          "metadata": {
            "tags": []
          },
          "execution_count": 9
        }
      ]
    },
    {
      "cell_type": "code",
      "metadata": {
        "id": "Rey7kzEIlHuC",
        "colab": {
          "base_uri": "https://localhost:8080/"
        },
        "outputId": "9befa8b3-cd28-4aca-bf58-a463355a895a"
      },
      "source": [
        "arr4=np.expand_dims(arr2,axis=0)\n",
        "print(arr4.shape)\n",
        "arr4"
      ],
      "execution_count": null,
      "outputs": [
        {
          "output_type": "stream",
          "text": [
            "(1, 3, 1, 3)\n"
          ],
          "name": "stdout"
        },
        {
          "output_type": "execute_result",
          "data": {
            "text/plain": [
              "array([[[[1, 2, 3]],\n",
              "\n",
              "        [[4, 5, 6]],\n",
              "\n",
              "        [[7, 8, 9]]]])"
            ]
          },
          "metadata": {
            "tags": []
          },
          "execution_count": 14
        }
      ]
    },
    {
      "cell_type": "markdown",
      "metadata": {
        "id": "V8THyHDomJD7"
      },
      "source": [
        "Q5. Consider two square numpy. Stack them vertically and horizontally.\n",
        "\n",
        "Hint: Use vstack(), hstack()\n"
      ]
    },
    {
      "cell_type": "code",
      "metadata": {
        "id": "NkcYG3aJlf9i",
        "colab": {
          "base_uri": "https://localhost:8080/"
        },
        "outputId": "aa0dfe6d-00e2-4b34-9108-380bf123729a"
      },
      "source": [
        "numpy1=np.arange(9)\n",
        "square_numpy1=numpy1.reshape(3,3)\n",
        "square_numpy1"
      ],
      "execution_count": null,
      "outputs": [
        {
          "output_type": "execute_result",
          "data": {
            "text/plain": [
              "array([[0, 1, 2],\n",
              "       [3, 4, 5],\n",
              "       [6, 7, 8]])"
            ]
          },
          "metadata": {
            "tags": []
          },
          "execution_count": 21
        }
      ]
    },
    {
      "cell_type": "code",
      "metadata": {
        "id": "QnG-HMAhmkHk",
        "colab": {
          "base_uri": "https://localhost:8080/"
        },
        "outputId": "0a011190-a164-4386-8433-5f950dba9ee1"
      },
      "source": [
        "numpy2=np.arange(10,19)\n",
        "square_numpy2=numpy2.reshape(3,3)\n",
        "square_numpy2"
      ],
      "execution_count": null,
      "outputs": [
        {
          "output_type": "execute_result",
          "data": {
            "text/plain": [
              "array([[10, 11, 12],\n",
              "       [13, 14, 15],\n",
              "       [16, 17, 18]])"
            ]
          },
          "metadata": {
            "tags": []
          },
          "execution_count": 23
        }
      ]
    },
    {
      "cell_type": "code",
      "metadata": {
        "id": "bEUqETrMpoB7",
        "colab": {
          "base_uri": "https://localhost:8080/"
        },
        "outputId": "2fcdc559-ba40-4dc5-9293-46391acaab75"
      },
      "source": [
        "np.vstack((square_numpy1,square_numpy2))"
      ],
      "execution_count": null,
      "outputs": [
        {
          "output_type": "execute_result",
          "data": {
            "text/plain": [
              "array([[ 0,  1,  2],\n",
              "       [ 3,  4,  5],\n",
              "       [ 6,  7,  8],\n",
              "       [10, 11, 12],\n",
              "       [13, 14, 15],\n",
              "       [16, 17, 18]])"
            ]
          },
          "metadata": {
            "tags": []
          },
          "execution_count": 33
        }
      ]
    },
    {
      "cell_type": "code",
      "metadata": {
        "id": "i4FPB22wp0_5",
        "colab": {
          "base_uri": "https://localhost:8080/"
        },
        "outputId": "8d0d0b60-4df2-4cc9-f23b-c19b8278ef6d"
      },
      "source": [
        "np.hstack((square_numpy1,square_numpy2))"
      ],
      "execution_count": null,
      "outputs": [
        {
          "output_type": "execute_result",
          "data": {
            "text/plain": [
              "array([[ 0,  1,  2, 10, 11, 12],\n",
              "       [ 3,  4,  5, 13, 14, 15],\n",
              "       [ 6,  7,  8, 16, 17, 18]])"
            ]
          },
          "metadata": {
            "tags": []
          },
          "execution_count": 32
        }
      ]
    },
    {
      "cell_type": "markdown",
      "metadata": {
        "id": "JNNgT6xSrQwh"
      },
      "source": [
        "Q6. How to get unique items and counts of unique items?\n"
      ]
    },
    {
      "cell_type": "code",
      "metadata": {
        "id": "4duJxIiIp9kE",
        "colab": {
          "base_uri": "https://localhost:8080/"
        },
        "outputId": "942b070e-4f7b-4aa1-a433-0b81e29238f5"
      },
      "source": [
        "a = np.array([11, 11, 12, 13, 14, 15, 16, 17, 12, 13, 11, 14, 18, 19, 20])\n",
        "print(a)\n",
        "print(np.unique(a))"
      ],
      "execution_count": null,
      "outputs": [
        {
          "output_type": "stream",
          "text": [
            "[11 11 12 13 14 15 16 17 12 13 11 14 18 19 20]\n",
            "[11 12 13 14 15 16 17 18 19 20]\n"
          ],
          "name": "stdout"
        }
      ]
    },
    {
      "cell_type": "code",
      "metadata": {
        "id": "Tiw3eS1vrvpM"
      },
      "source": [
        "unique,occur_count=np.unique(a,return_counts=True)"
      ],
      "execution_count": null,
      "outputs": []
    },
    {
      "cell_type": "code",
      "metadata": {
        "id": "3cVUudiPtre0",
        "colab": {
          "base_uri": "https://localhost:8080/"
        },
        "outputId": "c0e65c50-30e9-4d02-b09b-5abf466f21a3"
      },
      "source": [
        "print(unique)\n",
        "print(occur_count)"
      ],
      "execution_count": null,
      "outputs": [
        {
          "output_type": "stream",
          "text": [
            "[11 12 13 14 15 16 17 18 19 20]\n",
            "[3 2 2 2 1 1 1 1 1 1]\n"
          ],
          "name": "stdout"
        }
      ]
    },
    {
      "cell_type": "code",
      "metadata": {
        "id": "3Ezcjon2tu_w"
      },
      "source": [
        ""
      ],
      "execution_count": null,
      "outputs": []
    }
  ]
}