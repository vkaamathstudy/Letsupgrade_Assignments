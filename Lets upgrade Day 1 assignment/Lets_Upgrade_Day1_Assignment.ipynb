{
  "nbformat": 4,
  "nbformat_minor": 0,
  "metadata": {
    "colab": {
      "name": "Lets Upgrade Day1 Assignment.ipynb",
      "provenance": []
    },
    "kernelspec": {
      "name": "python3",
      "display_name": "Python 3"
    }
  },
  "cells": [
    {
      "cell_type": "markdown",
      "metadata": {
        "id": "UfV9kZGL3XvQ"
      },
      "source": [
        "Questions 1:\n",
        "Given the following jumbled word, OBANWRI guess the correct English word.\n",
        "A. RANIBOW\n",
        "B. RAINBOW\n",
        "C. BOWRANI\n",
        "D. ROBWANI\n",
        "\n",
        "Ans: B"
      ]
    },
    {
      "cell_type": "markdown",
      "metadata": {
        "id": "SZFWjMO03pEn"
      },
      "source": [
        "Questions 2:\n",
        "Write a program which prints “LETS UPGRADE”. (Please note that you have to\n",
        "print in ALL CAPS as given)"
      ]
    },
    {
      "cell_type": "code",
      "metadata": {
        "id": "_eMrVxm13oQF",
        "outputId": "8a86f557-5378-498a-ee9f-a4a9ccd739ad",
        "colab": {
          "base_uri": "https://localhost:8080/"
        }
      },
      "source": [
        "print(\"LETS UPGRADE\")"
      ],
      "execution_count": 1,
      "outputs": [
        {
          "output_type": "stream",
          "text": [
            "LETS UPGRADE\n"
          ],
          "name": "stdout"
        }
      ]
    },
    {
      "cell_type": "markdown",
      "metadata": {
        "id": "u9rR0tED4CnE"
      },
      "source": [
        "Questions 3:\n",
        "Write a program that takes cost price and selling price as input and displays whether the transaction is a\n",
        "Profit or a Loss or Neither.\n",
        "INPUT FORMAT\n",
        "The first line contains the cost price.\n",
        "The second line contains the selling price.\n",
        "OUTPUT FORMAT\n",
        "Print \"Profit\" if the transaction is a profit or \"Loss\" if it is a loss. If it is neither\n",
        "profit nor loss, print \"Neither\". (You must not have quotes in your output)"
      ]
    },
    {
      "cell_type": "code",
      "metadata": {
        "id": "TL7N_7dE24kQ",
        "outputId": "417d8a04-15ae-42a1-d423-37c4f0fa32d4",
        "colab": {
          "base_uri": "https://localhost:8080/"
        }
      },
      "source": [
        "cost_price=input()\n",
        "selling_price=input()\n",
        "if selling_price > cost_price:\n",
        "  print(\"Profit\")\n",
        "elif cost_price < selling_price:\n",
        "  print(\"Loss\")\n",
        "else:\n",
        "  print(\"Neither\")"
      ],
      "execution_count": 5,
      "outputs": [
        {
          "output_type": "stream",
          "text": [
            "34\n",
            "34\n",
            "Neither\n"
          ],
          "name": "stdout"
        }
      ]
    },
    {
      "cell_type": "markdown",
      "metadata": {
        "id": "Zsf4XHBg5l3Z"
      },
      "source": [
        "Questions 4:\n",
        "Write a program that takes an amount in Euros as input. You need to find its equivalent in\n",
        "Rupees and display it. Assume 1 Euro equals Rs. 80.\n",
        "Please note that you are expected to stick to the given input and output\n",
        "format as in sample test cases. Please don't add any extra lines such as\n",
        "'Enter a number', etc.\n",
        "Your program should take only one number as input and display the output."
      ]
    },
    {
      "cell_type": "code",
      "metadata": {
        "id": "fw5mMEm14zlY",
        "outputId": "f096ff96-9c54-4234-d885-e75c7d427137",
        "colab": {
          "base_uri": "https://localhost:8080/"
        }
      },
      "source": [
        "euro_money=int(input()) #note we are usin typecasting to convert string input\n",
        "inr_money=euro_money*80\n",
        "print(inr_money)"
      ],
      "execution_count": 7,
      "outputs": [
        {
          "output_type": "stream",
          "text": [
            "34\n",
            "2720\n"
          ],
          "name": "stdout"
        }
      ]
    },
    {
      "cell_type": "code",
      "metadata": {
        "id": "b2q2KiOQ6bLN"
      },
      "source": [
        ""
      ],
      "execution_count": null,
      "outputs": []
    }
  ]
}